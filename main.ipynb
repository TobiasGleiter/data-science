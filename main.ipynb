{
 "cells": [
  {
   "cell_type": "markdown",
   "metadata": {},
   "source": [
    "## Exploring Renovation Potentials: Data-Driven Insights for Renovation Service Providers in Chemnitz\n",
    "\n",
    "Matrnr.: 8161859, "
   ]
  },
  {
   "cell_type": "markdown",
   "metadata": {},
   "source": [
    "### .-1 Setup requirements\n",
    "\n",
    "- Python version 3.9.18"
   ]
  },
  {
   "cell_type": "code",
   "execution_count": 77,
   "metadata": {},
   "outputs": [
    {
     "name": "stdout",
     "output_type": "stream",
     "text": [
      "Requirement already satisfied: appnope==0.1.4 in ./.venv/lib/python3.9/site-packages (from -r requirements.txt (line 1)) (0.1.4)\n",
      "Requirement already satisfied: asttokens==2.4.1 in ./.venv/lib/python3.9/site-packages (from -r requirements.txt (line 2)) (2.4.1)\n",
      "Requirement already satisfied: comm==0.2.1 in ./.venv/lib/python3.9/site-packages (from -r requirements.txt (line 3)) (0.2.1)\n",
      "Requirement already satisfied: debugpy==1.8.1 in ./.venv/lib/python3.9/site-packages (from -r requirements.txt (line 4)) (1.8.1)\n",
      "Requirement already satisfied: decorator==5.1.1 in ./.venv/lib/python3.9/site-packages (from -r requirements.txt (line 5)) (5.1.1)\n",
      "Requirement already satisfied: exceptiongroup==1.2.0 in ./.venv/lib/python3.9/site-packages (from -r requirements.txt (line 6)) (1.2.0)\n",
      "Requirement already satisfied: executing==2.0.1 in ./.venv/lib/python3.9/site-packages (from -r requirements.txt (line 7)) (2.0.1)\n",
      "Requirement already satisfied: importlib_metadata==7.0.2 in ./.venv/lib/python3.9/site-packages (from -r requirements.txt (line 8)) (7.0.2)\n",
      "Requirement already satisfied: ipykernel==6.29.3 in ./.venv/lib/python3.9/site-packages (from -r requirements.txt (line 9)) (6.29.3)\n",
      "Requirement already satisfied: ipython==8.18.1 in ./.venv/lib/python3.9/site-packages (from -r requirements.txt (line 10)) (8.18.1)\n",
      "Requirement already satisfied: jedi==0.19.1 in ./.venv/lib/python3.9/site-packages (from -r requirements.txt (line 11)) (0.19.1)\n",
      "Requirement already satisfied: jupyter_client==8.6.0 in ./.venv/lib/python3.9/site-packages (from -r requirements.txt (line 12)) (8.6.0)\n",
      "Requirement already satisfied: jupyter_core==5.7.1 in ./.venv/lib/python3.9/site-packages (from -r requirements.txt (line 13)) (5.7.1)\n",
      "Requirement already satisfied: matplotlib-inline==0.1.6 in ./.venv/lib/python3.9/site-packages (from -r requirements.txt (line 14)) (0.1.6)\n",
      "Requirement already satisfied: nest-asyncio==1.6.0 in ./.venv/lib/python3.9/site-packages (from -r requirements.txt (line 15)) (1.6.0)\n",
      "Requirement already satisfied: numpy==1.26.4 in ./.venv/lib/python3.9/site-packages (from -r requirements.txt (line 16)) (1.26.4)\n",
      "Requirement already satisfied: packaging==24.0 in ./.venv/lib/python3.9/site-packages (from -r requirements.txt (line 17)) (24.0)\n",
      "Requirement already satisfied: pandas==2.2.1 in ./.venv/lib/python3.9/site-packages (from -r requirements.txt (line 18)) (2.2.1)\n",
      "Requirement already satisfied: parso==0.8.3 in ./.venv/lib/python3.9/site-packages (from -r requirements.txt (line 19)) (0.8.3)\n",
      "Requirement already satisfied: pexpect==4.9.0 in ./.venv/lib/python3.9/site-packages (from -r requirements.txt (line 20)) (4.9.0)\n",
      "Requirement already satisfied: platformdirs==4.2.0 in ./.venv/lib/python3.9/site-packages (from -r requirements.txt (line 21)) (4.2.0)\n",
      "Requirement already satisfied: prompt-toolkit==3.0.43 in ./.venv/lib/python3.9/site-packages (from -r requirements.txt (line 22)) (3.0.43)\n",
      "Requirement already satisfied: psutil==5.9.8 in ./.venv/lib/python3.9/site-packages (from -r requirements.txt (line 23)) (5.9.8)\n",
      "Requirement already satisfied: ptyprocess==0.7.0 in ./.venv/lib/python3.9/site-packages (from -r requirements.txt (line 24)) (0.7.0)\n",
      "Requirement already satisfied: pure-eval==0.2.2 in ./.venv/lib/python3.9/site-packages (from -r requirements.txt (line 25)) (0.2.2)\n",
      "Requirement already satisfied: Pygments==2.17.2 in ./.venv/lib/python3.9/site-packages (from -r requirements.txt (line 26)) (2.17.2)\n",
      "Requirement already satisfied: python-dateutil==2.9.0.post0 in ./.venv/lib/python3.9/site-packages (from -r requirements.txt (line 27)) (2.9.0.post0)\n",
      "Requirement already satisfied: pytz==2024.1 in ./.venv/lib/python3.9/site-packages (from -r requirements.txt (line 28)) (2024.1)\n",
      "Requirement already satisfied: pyzmq==25.1.2 in ./.venv/lib/python3.9/site-packages (from -r requirements.txt (line 29)) (25.1.2)\n",
      "Requirement already satisfied: six==1.16.0 in ./.venv/lib/python3.9/site-packages (from -r requirements.txt (line 30)) (1.16.0)\n",
      "Requirement already satisfied: stack-data==0.6.3 in ./.venv/lib/python3.9/site-packages (from -r requirements.txt (line 31)) (0.6.3)\n",
      "Requirement already satisfied: tornado==6.4 in ./.venv/lib/python3.9/site-packages (from -r requirements.txt (line 32)) (6.4)\n",
      "Requirement already satisfied: traitlets==5.14.1 in ./.venv/lib/python3.9/site-packages (from -r requirements.txt (line 33)) (5.14.1)\n",
      "Requirement already satisfied: typing_extensions==4.10.0 in ./.venv/lib/python3.9/site-packages (from -r requirements.txt (line 34)) (4.10.0)\n",
      "Requirement already satisfied: tzdata==2024.1 in ./.venv/lib/python3.9/site-packages (from -r requirements.txt (line 35)) (2024.1)\n",
      "Requirement already satisfied: wcwidth==0.2.13 in ./.venv/lib/python3.9/site-packages (from -r requirements.txt (line 36)) (0.2.13)\n",
      "Requirement already satisfied: zipp==3.17.0 in ./.venv/lib/python3.9/site-packages (from -r requirements.txt (line 37)) (3.17.0)\n",
      "Note: you may need to restart the kernel to use updated packages.\n"
     ]
    }
   ],
   "source": [
    "%pip install -r requirements.txt"
   ]
  },
  {
   "cell_type": "markdown",
   "metadata": {},
   "source": [
    "### 0. Preprocessing\n",
    "\n",
    "1. Read the datafile into the notebook\n",
    "2. Extract columns\n",
    "3. Use only rows with \"Chemnitz\"\n",
    "4. Save the dataset into a new file."
   ]
  },
  {
   "cell_type": "code",
   "execution_count": 78,
   "metadata": {},
   "outputs": [],
   "source": [
    "import pandas as pd"
   ]
  },
  {
   "cell_type": "code",
   "execution_count": 79,
   "metadata": {},
   "outputs": [],
   "source": [
    "raw_immo_data = pd.read_csv('./immo_data.csv')"
   ]
  },
  {
   "cell_type": "markdown",
   "metadata": {},
   "source": [
    "Notes:\n",
    "- The dataset contains different datatypes but also using whitespraces with \"_\" but also common whitespaces.\n",
    "- There are many values with NaN\n",
    "- Some datafields say NO_Information which is probably similar to NaN?"
   ]
  },
  {
   "cell_type": "code",
   "execution_count": 80,
   "metadata": {},
   "outputs": [
    {
     "data": {
      "text/plain": [
       "(268850, 49)"
      ]
     },
     "execution_count": 80,
     "metadata": {},
     "output_type": "execute_result"
    }
   ],
   "source": [
    "def extractColumnsFromDataset(dataset):\n",
    "    dataset[['regio1', 'newlyConst', 'balcony', 'totalRent', 'yearConstructed', 'hasKitchen', 'baseRent', 'livingSpace', 'condition', 'interiorQual', 'petsAllowed','noRooms', 'thermalChar', 'regio2', 'regio3', 'lastRefurbish', 'date']]\n",
    "    return dataset\n",
    "\n",
    "extracted_immo_data = extractColumnsFromDataset(raw_immo_data)\n",
    "extracted_immo_data.shape"
   ]
  },
  {
   "cell_type": "code",
   "execution_count": 81,
   "metadata": {},
   "outputs": [
    {
     "data": {
      "text/plain": [
       "(12575, 49)"
      ]
     },
     "execution_count": 81,
     "metadata": {},
     "output_type": "execute_result"
    }
   ],
   "source": [
    "def filterRegioForChemnitz(datset):\n",
    "    chemnitz_rows = datset[datset['regio2'] == 'Chemnitz']\n",
    "    return chemnitz_rows\n",
    "\n",
    "chemnitz_rows = filterRegioForChemnitz(extracted_immo_data)\n",
    "chemnitz_rows.shape"
   ]
  },
  {
   "cell_type": "code",
   "execution_count": 82,
   "metadata": {},
   "outputs": [],
   "source": [
    "def cleanDataset(dataset):\n",
    "    dataset = dataset.replace({r'\\r\\n': ' ', r'\\r': ' ', r'\\n': ' '}, regex=True)\n",
    "    return dataset\n",
    "\n",
    "def saveToCsv(dataset):\n",
    "    dataset.to_csv('outData.csv', sep=\"\\t\", index=False)\n",
    "\n",
    "\n",
    "clean_chemnitz = cleanDataset(chemnitz_rows)\n",
    "saveToCsv(clean_chemnitz)"
   ]
  },
  {
   "cell_type": "code",
   "execution_count": 85,
   "metadata": {},
   "outputs": [
    {
     "data": {
      "text/plain": [
       "(12575, 49)"
      ]
     },
     "execution_count": 85,
     "metadata": {},
     "output_type": "execute_result"
    }
   ],
   "source": [
    "clean_chemnitz_in = pd.read_csv('./outData.csv', delimiter=\"\\t\")\n",
    "clean_chemnitz_in.shape"
   ]
  },
  {
   "cell_type": "markdown",
   "metadata": {},
   "source": [
    "### 1. Business Understanding"
   ]
  },
  {
   "cell_type": "code",
   "execution_count": null,
   "metadata": {},
   "outputs": [],
   "source": []
  }
 ],
 "metadata": {
  "kernelspec": {
   "display_name": ".venv",
   "language": "python",
   "name": "python3"
  },
  "language_info": {
   "codemirror_mode": {
    "name": "ipython",
    "version": 3
   },
   "file_extension": ".py",
   "mimetype": "text/x-python",
   "name": "python",
   "nbconvert_exporter": "python",
   "pygments_lexer": "ipython3",
   "version": "3.9.18"
  }
 },
 "nbformat": 4,
 "nbformat_minor": 2
}
